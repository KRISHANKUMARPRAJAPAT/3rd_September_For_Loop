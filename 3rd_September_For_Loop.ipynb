{
 "cells": [
  {
   "cell_type": "markdown",
   "id": "7528ffb5-09d6-4b92-8729-e0528296f94d",
   "metadata": {},
   "source": [
    "## **Basic Level:**"
   ]
  },
  {
   "cell_type": "markdown",
   "id": "6cabc6d5-d65b-43c7-bf99-03e25b971e1d",
   "metadata": {},
   "source": [
    "# 1. Write a Python program to print the numbers from 1 to 10 using a `for` loop."
   ]
  },
  {
   "cell_type": "code",
   "execution_count": 1,
   "id": "8a60b478-7476-463f-aefa-b4995a1c62ef",
   "metadata": {},
   "outputs": [
    {
     "name": "stdout",
     "output_type": "stream",
     "text": [
      "1\n",
      "2\n",
      "3\n",
      "4\n",
      "5\n",
      "6\n",
      "7\n",
      "8\n",
      "9\n",
      "10\n"
     ]
    }
   ],
   "source": [
    "# Ans: 1 \n",
    "def krish():    \n",
    "    for i in range(1,11):\n",
    "        print(i)\n",
    "krish()"
   ]
  },
  {
   "cell_type": "code",
   "execution_count": null,
   "id": "d16746fe-3f86-4aeb-80c6-424ff4557289",
   "metadata": {},
   "outputs": [],
   "source": []
  },
  {
   "cell_type": "markdown",
   "id": "10aba639-9051-4934-b82b-61408f6ebc65",
   "metadata": {},
   "source": [
    "# 2. Create a program that calculates the sum of all numbers in a list using a `for` loop."
   ]
  },
  {
   "cell_type": "code",
   "execution_count": 2,
   "id": "58cdd786-8b54-49a4-8ed7-279af0f6f1fb",
   "metadata": {},
   "outputs": [
    {
     "name": "stdout",
     "output_type": "stream",
     "text": [
      "The sum of all numbers in the list is: 274.5\n"
     ]
    }
   ],
   "source": [
    "# Ans: 2 \n",
    "\n",
    "lst = [51,2,3,4,33,2,54,64,4,3,3.5,45,3,3]\n",
    "total_sum = 0\n",
    "\n",
    "#creating the for loop for calculating the sum\n",
    "for i in lst:\n",
    "    total_sum +=i\n",
    "    \n",
    "# print the sum of all numbers in the list\n",
    "print(\"The sum of all numbers in the list is:\", total_sum)\n"
   ]
  },
  {
   "cell_type": "code",
   "execution_count": null,
   "id": "b1c9d6d8-5469-439a-be5c-132264f3589d",
   "metadata": {},
   "outputs": [],
   "source": []
  },
  {
   "cell_type": "markdown",
   "id": "c3a16ff5-8108-48fb-bca8-8c61534928e4",
   "metadata": {},
   "source": [
    "# 3. Write a program to print the characters of a string in reverse order using a `for` loop."
   ]
  },
  {
   "cell_type": "code",
   "execution_count": 3,
   "id": "b356e416-fbe9-46fb-be37-8c926f6ae626",
   "metadata": {},
   "outputs": [
    {
     "name": "stdout",
     "output_type": "stream",
     "text": [
      "boj taerg gniod si sllikswp"
     ]
    }
   ],
   "source": [
    "# Ans: 3 \n",
    "\n",
    "s1 = 'pwskills is doing great job'\n",
    "\n",
    "# using a for loop to iterate through the charecters of the input str in reverse order\n",
    "for i in reversed(s1):\n",
    "    print(i,end='')"
   ]
  },
  {
   "cell_type": "code",
   "execution_count": null,
   "id": "7d948abe-2c79-4c9f-b3da-8d139170b729",
   "metadata": {},
   "outputs": [],
   "source": []
  },
  {
   "cell_type": "markdown",
   "id": "196c0cd7-2188-4ab2-a3b3-5a3b81af28c8",
   "metadata": {},
   "source": [
    "# 4. Develop a program that finds the factorial of a given number using a `for` loop."
   ]
  },
  {
   "cell_type": "code",
   "execution_count": 4,
   "id": "a520c332-4259-4407-bb84-9d6c9e69985a",
   "metadata": {},
   "outputs": [
    {
     "name": "stdout",
     "output_type": "stream",
     "text": [
      "factorical num is:  5040\n"
     ]
    }
   ],
   "source": [
    "# Ans: 4 \n",
    "\n",
    "num = int(7)\n",
    "factorial = 1\n",
    "\n",
    "# using a for loop to calculate the factorial\n",
    "for i in range(1, num+1):\n",
    "    factorial *= i\n",
    "    \n",
    "# print the factorial of the number\n",
    "print('factorical num is: ', factorial )"
   ]
  },
  {
   "cell_type": "code",
   "execution_count": null,
   "id": "32c20bd6-95a9-40b3-b8eb-2d78feec88c6",
   "metadata": {},
   "outputs": [],
   "source": []
  },
  {
   "cell_type": "markdown",
   "id": "8c745a8c-5e4e-48ce-8218-01f861707b3f",
   "metadata": {},
   "source": [
    "# 5. Create a program to print the multiplication table of a given number using a `for` loop."
   ]
  },
  {
   "cell_type": "code",
   "execution_count": 5,
   "id": "d25854e0-5ef7-4205-814d-b769ca9d84e8",
   "metadata": {},
   "outputs": [
    {
     "name": "stdin",
     "output_type": "stream",
     "text": [
      "Enter a Number:  45\n"
     ]
    },
    {
     "name": "stdout",
     "output_type": "stream",
     "text": [
      "Multiplication table for 45:\n",
      "45 x 1 = 45\n",
      "45 x 2 = 90\n",
      "45 x 3 = 135\n",
      "45 x 4 = 180\n",
      "45 x 5 = 225\n",
      "45 x 6 = 270\n",
      "45 x 7 = 315\n",
      "45 x 8 = 360\n",
      "45 x 9 = 405\n",
      "45 x 10 = 450\n"
     ]
    }
   ],
   "source": [
    "# Ams: 5 \n",
    "\n",
    "# get the number for which you want to print the multiplication table\n",
    "num = int(input('Enter a Number: '))\n",
    "\n",
    "# use a for loop to print the multiplication table\n",
    "print(f\"Multiplication table for {num}:\")\n",
    "for i in range(1,11):\n",
    "    multi = num*i\n",
    "    print(f\"{num} x {i} = {multi}\")"
   ]
  },
  {
   "cell_type": "code",
   "execution_count": null,
   "id": "3f5d8655-0ef3-422c-8e7a-d9fb0cbe1e03",
   "metadata": {},
   "outputs": [],
   "source": []
  },
  {
   "cell_type": "markdown",
   "id": "5f388871-254d-4046-821d-efbbc5941953",
   "metadata": {},
   "source": [
    "# 6. Write a program that counts the number of even and odd numbers in a list using a `for` loop."
   ]
  },
  {
   "cell_type": "code",
   "execution_count": 6,
   "id": "c97d62f8-dc36-40e3-a32d-47706d29ba8a",
   "metadata": {},
   "outputs": [
    {
     "name": "stdout",
     "output_type": "stream",
     "text": [
      "Number of even numbers is:  7\n",
      "Number of odd numbers is:  8\n"
     ]
    }
   ],
   "source": [
    "# Ans: 6 \n",
    "\n",
    "lst = [1,2,3,4,5,4,3,2,2,5,6,7,8,5,3]\n",
    "\n",
    "ev_count = 0\n",
    "odd_count = 0 \n",
    "\n",
    "# use a for loop to iterate through the list\n",
    "for i in lst:\n",
    "    if i % 2 == 0:        \n",
    "        ev_count += 1\n",
    "    else: \n",
    "        odd_count += 1\n",
    "\n",
    "print(\"Number of even numbers is: \", ev_count)\n",
    "print(\"Number of odd numbers is: \", odd_count)"
   ]
  },
  {
   "cell_type": "code",
   "execution_count": null,
   "id": "a30f2634-c34d-4cdb-96b6-0eb9a1c42f35",
   "metadata": {},
   "outputs": [],
   "source": []
  },
  {
   "cell_type": "markdown",
   "id": "2d0304b6-4b06-4115-be2d-8fff88c589d2",
   "metadata": {},
   "source": [
    "# 7. Develop a program that prints the squares of numbers from 1 to 5 using a `for` loop."
   ]
  },
  {
   "cell_type": "code",
   "execution_count": 7,
   "id": "05a414c4-ffef-4a2b-9d76-1525ffe9e5bc",
   "metadata": {},
   "outputs": [
    {
     "name": "stdout",
     "output_type": "stream",
     "text": [
      "The square of 1 is 1\n",
      "The square of 2 is 4\n",
      "The square of 3 is 9\n",
      "The square of 4 is 16\n",
      "The square of 5 is 25\n"
     ]
    }
   ],
   "source": [
    "# Ans: 7 \n",
    "\n",
    "for i in range(1,6):\n",
    "    square = i**2\n",
    "    \n",
    "    print(f\"The square of {i} is {square}\")"
   ]
  },
  {
   "cell_type": "code",
   "execution_count": null,
   "id": "0056f645-29aa-4a74-aba2-3e2740845a34",
   "metadata": {},
   "outputs": [],
   "source": []
  },
  {
   "cell_type": "markdown",
   "id": "952ac333-fa58-40d6-8801-fbf656ca9ddc",
   "metadata": {},
   "source": [
    "# 8. Create a program to find the length of a string without using the `len()` function."
   ]
  },
  {
   "cell_type": "code",
   "execution_count": 8,
   "id": "ee4be310-fcc1-4f9b-8d97-92c96e7a117e",
   "metadata": {},
   "outputs": [
    {
     "name": "stdout",
     "output_type": "stream",
     "text": [
      "Length of the srt is :  39\n"
     ]
    }
   ],
   "source": [
    "# Ans: 8\n",
    "\n",
    "s1 = 'Rajasthan is the largest state in india'\n",
    "count = 0\n",
    "\n",
    "# use a for loop to iterate the characters of the str\n",
    "for i in s1:\n",
    "    count += 1\n",
    "\n",
    "# print the length of the str \n",
    "print(f\"Length of the srt is : \", count)"
   ]
  },
  {
   "cell_type": "code",
   "execution_count": null,
   "id": "3ffdabdb-b954-4bcc-ba1d-a1ed058db1f5",
   "metadata": {},
   "outputs": [],
   "source": []
  },
  {
   "cell_type": "markdown",
   "id": "5c7029f0-a3a5-4901-95db-7749a70d8e5f",
   "metadata": {},
   "source": [
    "# 9. Write a program that calculates the average of a list of numbers using a `for` loop."
   ]
  },
  {
   "cell_type": "code",
   "execution_count": 9,
   "id": "59f12b8b-d6ae-4588-ae38-01056ef292a7",
   "metadata": {},
   "outputs": [
    {
     "name": "stdout",
     "output_type": "stream",
     "text": [
      "Average: 3.4545454545454546\n"
     ]
    }
   ],
   "source": [
    "# Ans: 9\n",
    "\n",
    "# Define a list of numbers\n",
    "numbers = [1,2,3,4,5,3,2,1,4,6,7]\n",
    "total_sum = 0\n",
    "count = 0\n",
    "\n",
    "#Use a for loop to calculate the sum and count of numbers in the list\n",
    "for num in numbers:\n",
    "    total_sum += num \n",
    "    count += 1       \n",
    "\n",
    "#Calculate the average\n",
    "average = total_sum / count\n",
    "print(\"Average:\", average)"
   ]
  },
  {
   "cell_type": "code",
   "execution_count": null,
   "id": "07367e57-1489-4219-a901-50d36d0a23d0",
   "metadata": {},
   "outputs": [],
   "source": []
  },
  {
   "cell_type": "markdown",
   "id": "c1a0915b-d420-4b5d-8810-918d357928cb",
   "metadata": {},
   "source": [
    "# 10. Develop a program that prints the first `n` Fibonacci numbers using a `for` loop."
   ]
  },
  {
   "cell_type": "code",
   "execution_count": 10,
   "id": "2eb1b8ac-2588-4bc2-bea6-74221532b97a",
   "metadata": {},
   "outputs": [
    {
     "name": "stdin",
     "output_type": "stream",
     "text": [
      "Enter the number of Fibonacci numbers to generate:  7\n"
     ]
    },
    {
     "name": "stdout",
     "output_type": "stream",
     "text": [
      "First 7 Fibonacci numbers:\n",
      "0 1 1 2 3 5 8 "
     ]
    }
   ],
   "source": [
    "# Ans: 10 \n",
    "\n",
    "# input: Get the value of n from the user\n",
    "n = int(input('Enter the number of Fibonacci numbers to generate: '))\n",
    "fibonacci_sequence = [0, 1]\n",
    "\n",
    "# use a for loop to generate the remaining Fibonacci numbers\n",
    "for i in range(2, n):\n",
    "    next_fibonacci = fibonacci_sequence[i - 1] + fibonacci_sequence[i - 2]\n",
    "    fibonacci_sequence.append(next_fibonacci)\n",
    "\n",
    "# print the first n Fibonacci numbers\n",
    "print('First', n, 'Fibonacci numbers:')\n",
    "for num in fibonacci_sequence:\n",
    "    print(num, end=' ')"
   ]
  },
  {
   "cell_type": "code",
   "execution_count": null,
   "id": "58dca5ea-22aa-4176-89cb-06ec86b1b48d",
   "metadata": {},
   "outputs": [],
   "source": []
  },
  {
   "cell_type": "code",
   "execution_count": null,
   "id": "94421270-3e97-4c03-ae83-988fde7a5fe5",
   "metadata": {},
   "outputs": [],
   "source": []
  },
  {
   "cell_type": "markdown",
   "id": "c15548d3-145d-44b5-8f41-6b9ae06b0581",
   "metadata": {},
   "source": [
    "# **Intermediate Level:**"
   ]
  },
  {
   "cell_type": "markdown",
   "id": "85753296-eaf1-4f62-ade0-0846214a7f23",
   "metadata": {},
   "source": [
    "# 11. Write a program to check if a given list contains any duplicates using a `for` loop."
   ]
  },
  {
   "cell_type": "code",
   "execution_count": 11,
   "id": "3ba1ca3f-cf8c-4642-85a3-d4c243551cb1",
   "metadata": {},
   "outputs": [
    {
     "name": "stdout",
     "output_type": "stream",
     "text": [
      "The list contains duplicates.\n"
     ]
    }
   ],
   "source": [
    "# Ans: 11\n",
    "\n",
    "lst = [1,2,3,4,5,6,7,8,6,35,4,32,]\n",
    "has_duplicates = False\n",
    "\n",
    "# using nested loops to campare each element with every other element\n",
    "for i in range(len(lst)):\n",
    "    for j in range(i+1, len(lst)):\n",
    "        if lst[i] ==lst[j]:\n",
    "            has_duplicates = True\n",
    "            break\n",
    "        if has_duplicates:\n",
    "            break\n",
    "            \n",
    "# check the flage and print the result \n",
    "if has_duplicates:\n",
    "    print('The list contains duplicates.')\n",
    "else:\n",
    "    print('The list dose not contains duplicates.')"
   ]
  },
  {
   "cell_type": "code",
   "execution_count": null,
   "id": "7b52798e-78cc-47e1-9dcb-fe91d3d925a0",
   "metadata": {},
   "outputs": [],
   "source": []
  },
  {
   "cell_type": "markdown",
   "id": "227fa1eb-3ac7-4dce-b403-c65be3ef7604",
   "metadata": {},
   "source": [
    "# 12. Create a program that prints the prime numbers in a given range using a `for` loop."
   ]
  },
  {
   "cell_type": "code",
   "execution_count": 12,
   "id": "9910c89e-13df-4fb6-ab56-6f6071517859",
   "metadata": {},
   "outputs": [
    {
     "name": "stdout",
     "output_type": "stream",
     "text": [
      "Prime numbers in the range from 10 to 50 are: \n",
      "11\n",
      "13\n",
      "17\n",
      "19\n",
      "23\n",
      "29\n",
      "31\n",
      "37\n",
      "41\n",
      "43\n",
      "47\n"
     ]
    }
   ],
   "source": [
    "# Ans: 12 \n",
    "\n",
    "# range of numbers\n",
    "start = 10 \n",
    "end = 50 \n",
    "\n",
    "print('Prime numbers in the range from', start, 'to',end, 'are: ' )\n",
    "for num in range(start, end+1):\n",
    "    if num > 1:\n",
    "        for i in range(2,num):\n",
    "            if (num%i) == 0:\n",
    "                break\n",
    "        else:\n",
    "            print(num)"
   ]
  },
  {
   "cell_type": "code",
   "execution_count": null,
   "id": "8d6d7f2c-995f-45de-922e-02d7b5935f71",
   "metadata": {},
   "outputs": [],
   "source": []
  },
  {
   "cell_type": "markdown",
   "id": "7136c02a-6100-4215-9a6d-28bb8c0e2ad0",
   "metadata": {},
   "source": [
    "# 13. Develop a program that counts the number of vowels in a string using a `for` loop."
   ]
  },
  {
   "cell_type": "code",
   "execution_count": 13,
   "id": "955478ba-8671-4891-9cb3-914494723a5d",
   "metadata": {},
   "outputs": [
    {
     "name": "stdout",
     "output_type": "stream",
     "text": [
      "Number of vowels in the string is:  19\n"
     ]
    }
   ],
   "source": [
    "# Ans: 13\n",
    "\n",
    "string = 'India hosting the G20 summit, this is the pride moment for all of us'\n",
    "vowel_count = 0\n",
    "\n",
    "# using a loop to iterate through characters and count vowels\n",
    "for char in string:\n",
    "    if char.lower() in 'aeiou':\n",
    "        vowel_count += 1\n",
    "        \n",
    "print('Number of vowels in the string is: ', vowel_count)"
   ]
  },
  {
   "cell_type": "code",
   "execution_count": null,
   "id": "ca4d4b57-19f9-41fb-a3c1-dd5833596922",
   "metadata": {},
   "outputs": [],
   "source": []
  },
  {
   "cell_type": "markdown",
   "id": "50a2f692-39f2-4557-8c44-061855975bc9",
   "metadata": {},
   "source": [
    "# 14. Write a program to find the maximum element in a 2D list using a nested `for` loop."
   ]
  },
  {
   "cell_type": "code",
   "execution_count": 14,
   "id": "ad218bbc-99a2-46a8-bfbc-f0a4aed37668",
   "metadata": {},
   "outputs": [
    {
     "name": "stdout",
     "output_type": "stream",
     "text": [
      "Maximum element in the 2D list is:  9\n"
     ]
    }
   ],
   "source": [
    "# Ans: 14\n",
    "\n",
    "matrix = [\n",
    "    [1,2,3],\n",
    "    [4,5,6],\n",
    "    [7,8,9]\n",
    "]\n",
    "max_element = matrix[0][0]\n",
    "\n",
    "# using nested loop to find the maximum element\n",
    "for row in matrix:\n",
    "    for num in row:\n",
    "        if num> max_element:\n",
    "            max_element = num\n",
    "            \n",
    "print('Maximum element in the 2D list is: ', max_element)"
   ]
  },
  {
   "cell_type": "code",
   "execution_count": null,
   "id": "7cffa1e3-5072-42a1-937d-46ae3d020ae7",
   "metadata": {},
   "outputs": [],
   "source": []
  },
  {
   "cell_type": "markdown",
   "id": "49bd27ad-0a84-4aef-9fe8-93282dfeed72",
   "metadata": {},
   "source": [
    "# 15. Create a program that removes all occurrences of a specific element from a list using a `for` loop."
   ]
  },
  {
   "cell_type": "code",
   "execution_count": 15,
   "id": "1885cc5d-ee7d-4ac4-9d0e-801dd356b621",
   "metadata": {},
   "outputs": [
    {
     "name": "stdout",
     "output_type": "stream",
     "text": [
      "List after removing all occurrences of 2 :  [1, 3, 4, 5]\n"
     ]
    }
   ],
   "source": [
    "# Ans: 15 \n",
    "\n",
    "# define a lst with elements and the element to remove\n",
    "lst = [1,2,3,4,2,5,2]\n",
    "elemnt_to_remove = 2\n",
    "\n",
    "# using a loop to remove all occurrences of the element\n",
    "while elemnt_to_remove in lst:\n",
    "    lst.remove(elemnt_to_remove)\n",
    "    \n",
    "print('List after removing all occurrences of', elemnt_to_remove, ': ', lst )"
   ]
  },
  {
   "cell_type": "code",
   "execution_count": null,
   "id": "b98bad62-6d91-42fe-bba2-5b64026af0fa",
   "metadata": {},
   "outputs": [],
   "source": []
  },
  {
   "cell_type": "markdown",
   "id": "c03b413c-f988-4ee9-b204-e5e0240486ee",
   "metadata": {},
   "source": [
    "# 16. Develop a program that generates a multiplication table for numbers from 1 to 5 using a nested `for` loop."
   ]
  },
  {
   "cell_type": "code",
   "execution_count": 16,
   "id": "6b4e6c85-0e94-4b06-a408-2d232a29a8c5",
   "metadata": {},
   "outputs": [
    {
     "name": "stdout",
     "output_type": "stream",
     "text": [
      "Multiplication table for number 1 to 5: \n",
      "1x1 = 1\n",
      "1x2 = 2\n",
      "1x3 = 3\n",
      "1x4 = 4\n",
      "1x5 = 5\n",
      "1x6 = 6\n",
      "1x7 = 7\n",
      "1x8 = 8\n",
      "1x9 = 9\n",
      "1x10 = 10\n",
      "2x1 = 2\n",
      "2x2 = 4\n",
      "2x3 = 6\n",
      "2x4 = 8\n",
      "2x5 = 10\n",
      "2x6 = 12\n",
      "2x7 = 14\n",
      "2x8 = 16\n",
      "2x9 = 18\n",
      "2x10 = 20\n",
      "3x1 = 3\n",
      "3x2 = 6\n",
      "3x3 = 9\n",
      "3x4 = 12\n",
      "3x5 = 15\n",
      "3x6 = 18\n",
      "3x7 = 21\n",
      "3x8 = 24\n",
      "3x9 = 27\n",
      "3x10 = 30\n",
      "4x1 = 4\n",
      "4x2 = 8\n",
      "4x3 = 12\n",
      "4x4 = 16\n",
      "4x5 = 20\n",
      "4x6 = 24\n",
      "4x7 = 28\n",
      "4x8 = 32\n",
      "4x9 = 36\n",
      "4x10 = 40\n",
      "5x1 = 5\n",
      "5x2 = 10\n",
      "5x3 = 15\n",
      "5x4 = 20\n",
      "5x5 = 25\n",
      "5x6 = 30\n",
      "5x7 = 35\n",
      "5x8 = 40\n",
      "5x9 = 45\n",
      "5x10 = 50\n"
     ]
    }
   ],
   "source": [
    "# Ans: 16 \n",
    "\n",
    "print('Multiplication table for number 1 to 5: ')\n",
    "for i in range(1,6):\n",
    "    for j in range(1,11):\n",
    "        product = i*j\n",
    "        print(f\"{i}x{j} = {product}\")\n",
    "\n"
   ]
  },
  {
   "cell_type": "code",
   "execution_count": null,
   "id": "6fb56167-ac9a-492c-976f-94cbdd54ea23",
   "metadata": {},
   "outputs": [],
   "source": []
  },
  {
   "cell_type": "markdown",
   "id": "0cf13233-a9fc-4ae1-8bb2-9fce58b5ec06",
   "metadata": {},
   "source": [
    "# 17. Write a program that converts a list of Fahrenheit temperatures to Celsius using a `for` loop."
   ]
  },
  {
   "cell_type": "code",
   "execution_count": 17,
   "id": "90540874-950d-4d7c-94bc-9f5a17340c06",
   "metadata": {},
   "outputs": [
    {
     "name": "stdout",
     "output_type": "stream",
     "text": [
      "Fahrenheit temperatures: [32, 68, 100, 132]\n",
      "Celsius temperatures: [0.0, 20.0, 37.77777777777778, 55.55555555555556]\n"
     ]
    }
   ],
   "source": [
    "# Ans: 17 \n",
    "\n",
    "# define a list of fahrenheit temp.\n",
    "fahrenheit_temp = [32,68,100,132]\n",
    "\n",
    "# converting fahrenheit to Celsius using a loop\n",
    "celsius_temp = []\n",
    "for fahrenheit in fahrenheit_temp:\n",
    "    celsius = (fahrenheit - 32) * 5/9\n",
    "    celsius_temp.append(celsius)\n",
    "\n",
    "print(\"Fahrenheit temperatures:\", fahrenheit_temp)\n",
    "print(\"Celsius temperatures:\", celsius_temp)"
   ]
  },
  {
   "cell_type": "code",
   "execution_count": null,
   "id": "daa40cbf-e213-4854-a139-aaabea659ac9",
   "metadata": {},
   "outputs": [],
   "source": []
  },
  {
   "cell_type": "markdown",
   "id": "0e59a5dc-97aa-45dd-9d12-821d80e11e32",
   "metadata": {},
   "source": [
    "# 18. Create a program to print the common elements from two lists using a `for` loop."
   ]
  },
  {
   "cell_type": "code",
   "execution_count": 18,
   "id": "ba3ac36f-fb09-425f-b7af-b11981dfcf5b",
   "metadata": {},
   "outputs": [
    {
     "name": "stdout",
     "output_type": "stream",
     "text": [
      "Common elements: [3, 4, 5]\n"
     ]
    }
   ],
   "source": [
    "# Ans : 18 \n",
    "\n",
    "# define two lists\n",
    "lst1 = [1, 2, 3, 4, 5]\n",
    "lst2 = [3, 4, 5, 6, 7]\n",
    "common_elements = []\n",
    "\n",
    "# using a loop to find and append common elements\n",
    "for i in lst1:\n",
    "    if i in lst2:\n",
    "        common_elements.append(i)\n",
    "\n",
    "print(\"Common elements:\", common_elements)\n"
   ]
  },
  {
   "cell_type": "code",
   "execution_count": null,
   "id": "aa81c0f4-7276-48e4-aa4f-b4f7036915bf",
   "metadata": {},
   "outputs": [],
   "source": []
  },
  {
   "cell_type": "markdown",
   "id": "7d6437f9-3005-48b6-998d-e295248b626c",
   "metadata": {},
   "source": [
    "# 19. Develop a program that prints the pattern of right-angled triangles using a `for` loop. Use ‘*’ to draw the pattern"
   ]
  },
  {
   "cell_type": "code",
   "execution_count": 19,
   "id": "a9049d09-80b7-4aff-9dd4-800c6d031dff",
   "metadata": {},
   "outputs": [
    {
     "name": "stdout",
     "output_type": "stream",
     "text": [
      "*\n",
      "**\n",
      "***\n",
      "****\n",
      "*****\n"
     ]
    }
   ],
   "source": [
    "# Ans: 19 \n",
    "\n",
    "#defining the number of rows for the triangle\n",
    "n = 5 \n",
    "\n",
    "# use a nested loop to print the right- angled triangle pattern\n",
    "for i in range(1, n+1):\n",
    "    for j in range(i):\n",
    "        print('*', end = '')\n",
    "    print()"
   ]
  },
  {
   "cell_type": "code",
   "execution_count": null,
   "id": "1b2794b0-e6f2-42c9-a5ec-3445bd23145d",
   "metadata": {},
   "outputs": [],
   "source": []
  },
  {
   "cell_type": "markdown",
   "id": "fb8db358-d7e7-4148-9a35-ce600e39e958",
   "metadata": {},
   "source": [
    "# 20. Write a program to find the greatest common divisor (GCD) of two numbers using a `for` loop."
   ]
  },
  {
   "cell_type": "code",
   "execution_count": 20,
   "id": "5ee56b99-ad42-43d9-a1a7-2215d93f7bce",
   "metadata": {},
   "outputs": [
    {
     "name": "stdin",
     "output_type": "stream",
     "text": [
      "Enter the first number:  85\n",
      "Enter the second number:  65\n"
     ]
    },
    {
     "name": "stdout",
     "output_type": "stream",
     "text": [
      "The GCD of 85 and 65 is 5\n"
     ]
    }
   ],
   "source": [
    "# Ans: 20 \n",
    "\n",
    "num1 = int(input('Enter the first number: '))\n",
    "num2 = int(input('Enter the second number: '))\n",
    "\n",
    "gcd = []\n",
    "\n",
    "# find the GCD using the for loop\n",
    "for i in range(1, min(num1, num2) + 1):\n",
    "    if (num1 % i ==0) and (num2 % i == 0): \n",
    "        gcd = i\n",
    "        \n",
    "print('The GCD of', num1, 'and', num2, 'is', gcd)"
   ]
  },
  {
   "cell_type": "code",
   "execution_count": null,
   "id": "c6599687-62ee-4ba6-a306-08d61b229b48",
   "metadata": {},
   "outputs": [],
   "source": []
  },
  {
   "cell_type": "code",
   "execution_count": null,
   "id": "0145af26-8bc7-4645-b764-6b209fcfaccd",
   "metadata": {},
   "outputs": [],
   "source": []
  },
  {
   "cell_type": "markdown",
   "id": "6a3f287e-0a44-4d03-8771-af02e8a48d99",
   "metadata": {},
   "source": [
    "# **Advanced Level:**"
   ]
  },
  {
   "cell_type": "markdown",
   "id": "e46b49ab-6f0b-4164-9542-e862893eb023",
   "metadata": {},
   "source": [
    "# 21. Create a program that calculates the sum of the digits of numbers in a list using a list comprehension."
   ]
  },
  {
   "cell_type": "code",
   "execution_count": 21,
   "id": "14fc3257-ae27-441d-8250-e58eaf039fa6",
   "metadata": {},
   "outputs": [
    {
     "name": "stdout",
     "output_type": "stream",
     "text": [
      "Sum of digits for each number: [6, 9, 21]\n"
     ]
    }
   ],
   "source": [
    "# Ans: 21\n",
    "\n",
    "# Define a list of numbers\n",
    "numbers = [123, 45, 678]\n",
    "\n",
    "# Use list comprehension to calculate the sum of digits for each number\n",
    "digit_sums = [sum(int(digit) for digit in str(num)) for num in numbers]\n",
    "\n",
    "print('Sum of digits for each number:', digit_sums)"
   ]
  },
  {
   "cell_type": "code",
   "execution_count": null,
   "id": "75266456-8927-4bfc-80eb-bba45b863360",
   "metadata": {},
   "outputs": [],
   "source": []
  },
  {
   "cell_type": "markdown",
   "id": "c2750c3f-096a-4631-8c53-f7b0fe57ca92",
   "metadata": {},
   "source": [
    "# 22. Write a program to find the prime factors of a given number using a `for` loop and list comprehension."
   ]
  },
  {
   "cell_type": "code",
   "execution_count": 22,
   "id": "2af0bc69-161c-4222-acd2-7b330daaf5cf",
   "metadata": {},
   "outputs": [
    {
     "name": "stdin",
     "output_type": "stream",
     "text": [
      "Enter a number:  6\n"
     ]
    },
    {
     "name": "stdout",
     "output_type": "stream",
     "text": [
      "Prime factors of 6 are: [2, 3]\n"
     ]
    }
   ],
   "source": [
    "# Ans: 22\n",
    "\n",
    "# input:- Get the number for which you want to find prime factors\n",
    "number = int(input(\"Enter a number: \"))\n",
    "\n",
    "# use list comprehension and a for loop to find prime factors\n",
    "prime_factors = [factor for factor in range(2, number+1) if (number%factor == 0) and all(factor%i != 0 for i in range(2,factor))]\n",
    "\n",
    "print('Prime factors of', number, 'are:', prime_factors)"
   ]
  },
  {
   "cell_type": "code",
   "execution_count": null,
   "id": "17a0e1f1-ae6b-4f77-85f8-46f041b1f00c",
   "metadata": {},
   "outputs": [],
   "source": []
  },
  {
   "cell_type": "markdown",
   "id": "19530cd1-1625-4d1f-946f-46580e714c4f",
   "metadata": {},
   "source": [
    "# 23. Develop a program that extracts unique elements from a list and stores them in a new list using a list comprehension."
   ]
  },
  {
   "cell_type": "code",
   "execution_count": 23,
   "id": "032dc2fe-f2c7-4d86-81a9-ef19084072e4",
   "metadata": {},
   "outputs": [
    {
     "name": "stdout",
     "output_type": "stream",
     "text": [
      "Unique elements: [1, 2, 3, 4, 5]\n"
     ]
    }
   ],
   "source": [
    "# Ans: 23\n",
    "\n",
    "# define a list with duplicate elements\n",
    "original_list = [1, 2, 2, 3, 4, 4, 5]\n",
    "\n",
    "# use list comprehension to extract unique elements\n",
    "unique_elements = [x for i, x in enumerate(original_list) if x not in original_list[:i]]\n",
    "\n",
    "print(\"Unique elements:\", unique_elements)"
   ]
  },
  {
   "cell_type": "code",
   "execution_count": null,
   "id": "0cd85381-b915-403b-8075-5aac82ca28b3",
   "metadata": {},
   "outputs": [],
   "source": []
  },
  {
   "cell_type": "markdown",
   "id": "585e38fc-c856-406b-90af-1224676c9f7b",
   "metadata": {},
   "source": [
    "# 24. Create a program that generates a list of all palindromic numbers up to a specified limit using a list comprehension."
   ]
  },
  {
   "cell_type": "code",
   "execution_count": 24,
   "id": "09682077-c02c-4355-83cb-108f4ad35a3c",
   "metadata": {},
   "outputs": [
    {
     "name": "stdout",
     "output_type": "stream",
     "text": [
      "Palindromic numbers up to 100 are: [1, 2, 3, 4, 5, 6, 7, 8, 9, 11, 22, 33, 44, 55, 66, 77, 88, 99]\n"
     ]
    }
   ],
   "source": [
    "# Ans: 24\n",
    "\n",
    "# define the limit\n",
    "limit = 100\n",
    "\n",
    "# using list comprehension to generate palindromic numbers\n",
    "palindromic_numbers = [num for num in range(1, limit+1) if str(num) == str(num)[::-1]]\n",
    "\n",
    "print(\"Palindromic numbers up to\", limit, \"are:\", palindromic_numbers)"
   ]
  },
  {
   "cell_type": "code",
   "execution_count": null,
   "id": "12cf269b-d120-433c-9720-4ebd3b273269",
   "metadata": {},
   "outputs": [],
   "source": []
  },
  {
   "cell_type": "markdown",
   "id": "7bab0025-2bfb-4c47-ac2c-74b966e25c0c",
   "metadata": {},
   "source": [
    "# 25. Write a program to flatten a nested list using list comprehension."
   ]
  },
  {
   "cell_type": "code",
   "execution_count": 25,
   "id": "c4f7a2de-f2dc-416d-82a5-09eb3dccbae5",
   "metadata": {},
   "outputs": [
    {
     "name": "stdout",
     "output_type": "stream",
     "text": [
      "Flattened list: [1, 2, 3, 4, 5, 6, 7, 8]\n"
     ]
    }
   ],
   "source": [
    "# Ans: 25\n",
    "\n",
    "# define a nested list\n",
    "nested_list = [[1, 2, 3], [4, 5], [6, 7, 8]]\n",
    "\n",
    "# use list comprehension to flatten the nested list\n",
    "flattened_list = [item for sublist in nested_list for item in sublist]\n",
    "\n",
    "print(\"Flattened list:\", flattened_list)"
   ]
  },
  {
   "cell_type": "code",
   "execution_count": null,
   "id": "d43877bd-000b-4733-bd23-2b7d0b5aeed9",
   "metadata": {},
   "outputs": [],
   "source": []
  },
  {
   "cell_type": "markdown",
   "id": "2b3a06bc-e346-4c3c-9da6-eb1cb1629221",
   "metadata": {},
   "source": [
    "# 26. Develop a program that computes the sum of even and odd numbers in a list separately using list comprehension."
   ]
  },
  {
   "cell_type": "code",
   "execution_count": 26,
   "id": "1c1e2c9d-ab26-4de9-8b73-c40ba0db11bb",
   "metadata": {},
   "outputs": [
    {
     "name": "stdout",
     "output_type": "stream",
     "text": [
      "Sum of even numbers: 20\n",
      "Sum of odd numbers: 25\n"
     ]
    }
   ],
   "source": [
    "# Ans: 26 \n",
    "\n",
    "# define a list of numbers\n",
    "numbers = [1, 2, 3, 4, 5, 6, 7, 8, 9]\n",
    "\n",
    "# use list comprehension to compute sums of even and odd numbers separately\n",
    "even_sum = sum([num for num in numbers if num%2 == 0])\n",
    "odd_sum = sum([num for num in numbers if num%2 != 0])\n",
    "\n",
    "print(\"Sum of even numbers:\", even_sum)\n",
    "print(\"Sum of odd numbers:\", odd_sum)"
   ]
  },
  {
   "cell_type": "code",
   "execution_count": null,
   "id": "758e0f48-ce7f-4000-a1f1-c79144a86d58",
   "metadata": {},
   "outputs": [],
   "source": []
  },
  {
   "cell_type": "markdown",
   "id": "fc18e52f-21cc-49c4-9526-486764438d8a",
   "metadata": {},
   "source": [
    "# 27. Create a program that generates a list of squares of odd numbers between 1 and 10 using list comprehension."
   ]
  },
  {
   "cell_type": "code",
   "execution_count": 27,
   "id": "1825f48d-6c01-42c3-8430-97f1a32f54d1",
   "metadata": {},
   "outputs": [
    {
     "name": "stdout",
     "output_type": "stream",
     "text": [
      "Squares of odd numbers between 1 and 10: [1, 9, 25, 49, 81]\n"
     ]
    }
   ],
   "source": [
    "# Ans: 27\n",
    "\n",
    "# Use list comprehension to generate squares of odd numbers\n",
    "squares_of_odd_numbers = [num ** 2 for num in range(1, 11) if num % 2 != 0]\n",
    "\n",
    "print(\"Squares of odd numbers between 1 and 10:\", squares_of_odd_numbers)"
   ]
  },
  {
   "cell_type": "code",
   "execution_count": null,
   "id": "22a47ed2-a4a4-4b85-a8f0-c96441b4421b",
   "metadata": {},
   "outputs": [],
   "source": []
  },
  {
   "cell_type": "markdown",
   "id": "ce8a6277-aa73-42c3-b07e-cefa21a3f767",
   "metadata": {},
   "source": [
    "# 28. Write a program that combines two lists into a dictionary using list comprehension."
   ]
  },
  {
   "cell_type": "code",
   "execution_count": 28,
   "id": "9462afcb-4714-4d5b-81c5-34aae7fa9c8c",
   "metadata": {},
   "outputs": [
    {
     "name": "stdout",
     "output_type": "stream",
     "text": [
      "Combined dictionary: {'a': 1, 'b': 2, 'c': 3}\n"
     ]
    }
   ],
   "source": [
    "# Ans: 28 \n",
    "\n",
    "# define two lists\n",
    "keys = ['a', 'b', 'c']\n",
    "values = [1, 2, 3]\n",
    "\n",
    "# use list comprehension to combine lists into a dictionary\n",
    "combined_dict = {k: v for k, v in zip(keys, values)}\n",
    "\n",
    "print(\"Combined dictionary:\", combined_dict)"
   ]
  },
  {
   "cell_type": "code",
   "execution_count": null,
   "id": "7c395f4d-efee-49e8-a570-00f46b1631c0",
   "metadata": {},
   "outputs": [],
   "source": []
  },
  {
   "cell_type": "markdown",
   "id": "7a1133d5-7faa-4315-a515-61bfd11c0e98",
   "metadata": {},
   "source": [
    "# 29. Develop a program that extracts the vowels from a string and stores them in a list using list comprehension."
   ]
  },
  {
   "cell_type": "code",
   "execution_count": 29,
   "id": "7e161f84-3708-4339-997a-6add133a65ce",
   "metadata": {},
   "outputs": [
    {
     "name": "stdout",
     "output_type": "stream",
     "text": [
      "Vowels in the string: ['I', 'i', 'a', 'i', 'e', 'i', 'i', 'e', 'a', 'e', 'e', 'a', 'o', 'i', 'i', 'o', 'i', 'e', 'u', 'i']\n"
     ]
    }
   ],
   "source": [
    "# Ans: 29 \n",
    "\n",
    "# Input string\n",
    "input_str = \"Indian prime minister Mr.Narendera modi is hosting the G20 summit 2023 \"\n",
    "\n",
    "# Use list comprehension to extract vowels from the string\n",
    "vowels = [char for char in input_str if char.lower() in 'aeiou']\n",
    "\n",
    "print(\"Vowels in the string:\", vowels)\n"
   ]
  },
  {
   "cell_type": "code",
   "execution_count": null,
   "id": "3c377dd2-4605-40e0-b908-656fe1572573",
   "metadata": {},
   "outputs": [],
   "source": []
  },
  {
   "cell_type": "markdown",
   "id": "8e0d74b5-2a15-4cc3-a9f0-3ece1cae3d44",
   "metadata": {},
   "source": [
    "# 30. Create a program that removes all non-numeric characters from a list of strings using list comprehension."
   ]
  },
  {
   "cell_type": "code",
   "execution_count": 30,
   "id": "d070658d-daa6-46d5-93ef-f8b8857681a1",
   "metadata": {},
   "outputs": [
    {
     "name": "stdout",
     "output_type": "stream",
     "text": [
      "Numeric strings: ['', '123', '', '', '456']\n"
     ]
    }
   ],
   "source": [
    "# Ans: 30 \n",
    "\n",
    "# define a list of strings\n",
    "str_lst = ['pw', '123','krish', 'jawan', '456']\n",
    "\n",
    "# use list comprehension to remove non-numeric characters\n",
    "numeric_str = [''.join(char for char in string if char.isdigit()) for string in str_lst]\n",
    "\n",
    "print(\"Numeric strings:\", numeric_str)"
   ]
  },
  {
   "cell_type": "code",
   "execution_count": null,
   "id": "2548a157-9861-42ca-8311-9b9bcf568b19",
   "metadata": {},
   "outputs": [],
   "source": []
  },
  {
   "cell_type": "code",
   "execution_count": null,
   "id": "4bc10432-47b2-435c-8d57-659189aea2cb",
   "metadata": {},
   "outputs": [],
   "source": []
  },
  {
   "cell_type": "markdown",
   "id": "5d2662d2-01ba-4408-961d-e2e47790496c",
   "metadata": {},
   "source": [
    "# **Challenge Level:**"
   ]
  },
  {
   "cell_type": "markdown",
   "id": "fc67da08-be77-4116-88b7-f50da24b5f35",
   "metadata": {},
   "source": [
    "# 31. Write a program to generate a list of prime numbers using the Sieve of Eratosthenes algorithm and list comprehension."
   ]
  },
  {
   "cell_type": "code",
   "execution_count": 31,
   "id": "30b85f7c-f683-445e-93bd-dbeccffb742a",
   "metadata": {},
   "outputs": [
    {
     "name": "stdout",
     "output_type": "stream",
     "text": [
      "Prime numbers up to 50 are: [2, 3, 5, 7, 11, 13, 17, 19, 23, 29, 31, 37, 41, 43, 47]\n"
     ]
    }
   ],
   "source": [
    "# Ans: 31 \n",
    "\n",
    "limit = 50  # Specify the limit for prime numbers\n",
    "sieve = [True] * (limit + 1)\n",
    "sieve[0:2] = [False, False]  # 0 and 1 are not prime\n",
    "\n",
    "# Sieve of Eratosthenes algorithm\n",
    "for current in range(2, int(limit**0.5) + 1):\n",
    "    if sieve[current]:\n",
    "        for multiple in range(current*current, limit+1, current):\n",
    "            sieve[multiple] = False\n",
    "\n",
    "# Use list comprehension to generate prime numbers\n",
    "prime_numbers = [num for num in range(2, limit + 1) if sieve[num]]\n",
    "\n",
    "print(\"Prime numbers up to\", limit, \"are:\", prime_numbers)"
   ]
  },
  {
   "cell_type": "code",
   "execution_count": null,
   "id": "c0ff1a1f-5a22-487d-9e2b-0eb3f8069eb7",
   "metadata": {},
   "outputs": [],
   "source": []
  },
  {
   "cell_type": "markdown",
   "id": "14565257-9a47-41c9-9c9c-0ef4c67c4748",
   "metadata": {},
   "source": [
    "# 32. Create a program that generates a list of all Pythagorean triplets up to a specified limit using list comprehension."
   ]
  },
  {
   "cell_type": "code",
   "execution_count": 32,
   "id": "4d7ab075-0530-46a4-87c0-03087421533a",
   "metadata": {},
   "outputs": [
    {
     "name": "stdout",
     "output_type": "stream",
     "text": [
      "Pythagorean triplets up to 20 are: [(3, 4, 5), (5, 12, 13), (6, 8, 10), (8, 15, 17), (9, 12, 15)]\n"
     ]
    }
   ],
   "source": [
    "# Ans: 32\n",
    "\n",
    "limit = 20  # Specify the limit for Pythagorean triplets\n",
    "triplets = [(a,b,c) for a in range(1,limit) for b in range(a,limit) for c in range(b,limit) if a**2 + b**2 == c**2]\n",
    "\n",
    "print(\"Pythagorean triplets up to\", limit, \"are:\", triplets)"
   ]
  },
  {
   "cell_type": "code",
   "execution_count": null,
   "id": "b462185e-ef8d-424a-9393-44a98e4298a5",
   "metadata": {},
   "outputs": [],
   "source": []
  },
  {
   "cell_type": "markdown",
   "id": "fde0fbf0-d48d-4014-a147-e9dd91d98d0e",
   "metadata": {},
   "source": [
    "# 33. Develop a program that generates a list of all possible combinations of two lists using list comprehension."
   ]
  },
  {
   "cell_type": "code",
   "execution_count": 33,
   "id": "15b1c529-627b-4274-8634-0cf9ae115d83",
   "metadata": {},
   "outputs": [
    {
     "name": "stdout",
     "output_type": "stream",
     "text": [
      "All possible combinations of two lists: [(1, 'a'), (1, 'b'), (2, 'a'), (2, 'b'), (3, 'a'), (3, 'b')]\n"
     ]
    }
   ],
   "source": [
    "# Ans: 33\n",
    "\n",
    "list1 = [1,2,3]\n",
    "list2 = ['a','b']\n",
    "\n",
    "# Use list comprehension to generate combinations of two lists\n",
    "combinations = [(x, y) for x in list1 for y in list2]\n",
    "\n",
    "print(\"All possible combinations of two lists:\", combinations)"
   ]
  },
  {
   "cell_type": "code",
   "execution_count": null,
   "id": "dd08c420-ab19-4a4e-aeea-4934be1f51e7",
   "metadata": {},
   "outputs": [],
   "source": []
  },
  {
   "cell_type": "markdown",
   "id": "5f3639fc-9df5-4812-a102-68a7856a2b4d",
   "metadata": {},
   "source": [
    "# 34. Write a program that calculates the mean, median, and mode of a list of numbers using list comprehension."
   ]
  },
  {
   "cell_type": "code",
   "execution_count": 34,
   "id": "30969982-49cf-499b-8b46-8a386f574395",
   "metadata": {},
   "outputs": [
    {
     "name": "stdout",
     "output_type": "stream",
     "text": [
      "Mean: 3.0\n",
      "Median: 3\n",
      "Mode: 2\n"
     ]
    }
   ],
   "source": [
    "# Ans: 34\n",
    "\n",
    "import statistics\n",
    "numbers = [1,2,2,3,4,4,5]\n",
    "\n",
    "# Use list comprehension to calculate mean, median, and mode\n",
    "mean = sum(numbers) / len(numbers)\n",
    "median = statistics.median(numbers)\n",
    "mode = statistics.mode(numbers)\n",
    "\n",
    "print(\"Mean:\", mean)\n",
    "print(\"Median:\", median)\n",
    "print(\"Mode:\", mode)"
   ]
  },
  {
   "cell_type": "code",
   "execution_count": null,
   "id": "34007982-9ff7-47d6-ba0c-22f2d9c26b3a",
   "metadata": {},
   "outputs": [],
   "source": []
  },
  {
   "cell_type": "markdown",
   "id": "8ec73956-9a62-4820-ac83-5e43ff4d6954",
   "metadata": {},
   "source": [
    "# 35. Create a program that generates Pascal's triangle up to a specified number of rows using list comprehension."
   ]
  },
  {
   "cell_type": "code",
   "execution_count": 35,
   "id": "0191434c-e2dd-49ca-a0e1-d63711da21ca",
   "metadata": {},
   "outputs": [
    {
     "name": "stdout",
     "output_type": "stream",
     "text": [
      "Pascal's triangle with 5 rows:\n",
      "[1]\n",
      "[1, 1]\n",
      "[1, 2, 1]\n",
      "[1, 3, 3, 1]\n",
      "[1, 4, 6, 4, 1]\n"
     ]
    }
   ],
   "source": [
    "# Ans: 35\n",
    "\n",
    "n = 5  # Specify the number of rows for Pascal's triangle\n",
    "\n",
    "pascal_triangle = [[1]]\n",
    "\n",
    "[pascal_triangle.append([1] + [pascal_triangle[i-1][j-1] + pascal_triangle[i-1][j] for j in range(1, i)] + [1]) for i in range(1, n)]\n",
    "\n",
    "print(\"Pascal's triangle with\", n, \"rows:\")\n",
    "for row in pascal_triangle:\n",
    "    print(row)"
   ]
  },
  {
   "cell_type": "code",
   "execution_count": null,
   "id": "fad4961a-c326-4225-a882-4d848e02a7b0",
   "metadata": {},
   "outputs": [],
   "source": []
  },
  {
   "cell_type": "markdown",
   "id": "92b44f4e-d4d7-4373-adfa-b2ea2abf713b",
   "metadata": {},
   "source": [
    "# 36. Develop a program that calculates the sum of the digits of a factorial of numbers from 1 to 5 using list comprehension."
   ]
  },
  {
   "cell_type": "code",
   "execution_count": 36,
   "id": "7cebbb5e-6a83-4dc6-9040-af86fbf783a4",
   "metadata": {},
   "outputs": [
    {
     "name": "stdout",
     "output_type": "stream",
     "text": [
      "Sum of digits of factorials: [1, 2, 6, 6, 3]\n"
     ]
    }
   ],
   "source": [
    "# Ans: 36 \n",
    "\n",
    "import math\n",
    "\n",
    "n = 5  # Specify the range\n",
    "digit_sums = [sum(int(digit) for digit in str(math.factorial(num))) for num in range(1, n + 1)]\n",
    "\n",
    "print(\"Sum of digits of factorials:\", digit_sums)"
   ]
  },
  {
   "cell_type": "code",
   "execution_count": null,
   "id": "81cffc39-61a4-4007-b433-79166db56752",
   "metadata": {},
   "outputs": [],
   "source": []
  },
  {
   "cell_type": "markdown",
   "id": "cab383dd-1134-4d80-98d0-e540521d1e0e",
   "metadata": {},
   "source": [
    "# 37. Write a program that finds the longest word in a sentence using list comprehension."
   ]
  },
  {
   "cell_type": "code",
   "execution_count": 37,
   "id": "89edcdad-73aa-4448-98bf-b0db1bf2f067",
   "metadata": {},
   "outputs": [
    {
     "name": "stdout",
     "output_type": "stream",
     "text": [
      "Longest word in the sentence: CHANDRAYAN-3\n"
     ]
    }
   ],
   "source": [
    "# Ans: 37 \n",
    "\n",
    "sentence = \"In the August 2023 india's CHANDRAYAN-3 reached his destination on the surface of moon.\"\n",
    "\n",
    "# Use list comprehension to find the longest word\n",
    "longest_word = max(sentence.split(), key=len)\n",
    "\n",
    "print(\"Longest word in the sentence:\", longest_word)"
   ]
  },
  {
   "cell_type": "code",
   "execution_count": null,
   "id": "6a2c41af-8550-47d2-be9d-2d2d961333c3",
   "metadata": {},
   "outputs": [],
   "source": []
  },
  {
   "cell_type": "markdown",
   "id": "f1b9806c-e0fa-4f9b-b759-24b9a2cebb1f",
   "metadata": {},
   "source": [
    "# 38. Create a program that filters a list of strings to include only those with more than three vowels using list comprehension."
   ]
  },
  {
   "cell_type": "code",
   "execution_count": 38,
   "id": "de990e0f-aaf8-4b09-9b05-19605de8fcd4",
   "metadata": {},
   "outputs": [
    {
     "name": "stdout",
     "output_type": "stream",
     "text": [
      "Strings with more than three vowels: ['Understanding', 'common_man_army']\n"
     ]
    }
   ],
   "source": [
    "# Ans: 38 \n",
    "\n",
    "str_lst = ['hello','world','programming','python','challenge','Understanding','common_man_army']\n",
    "\n",
    "# use list comprehension to filter strings with more than three vowels\n",
    "filtered_str = [string for string in str_lst if sum(1 for char in string if char.lower() in 'aeiou') > 3]\n",
    "\n",
    "print(\"Strings with more than three vowels:\", filtered_str)"
   ]
  },
  {
   "cell_type": "code",
   "execution_count": null,
   "id": "01b86375-c251-470e-8861-2669563c2a0c",
   "metadata": {},
   "outputs": [],
   "source": []
  },
  {
   "cell_type": "markdown",
   "id": "47d77832-1f87-4c98-b190-c1e2db39102b",
   "metadata": {},
   "source": [
    "# 39. Develop a program that calculates the sum of the digits of numbers from 1 to 1000 using list comprehension."
   ]
  },
  {
   "cell_type": "code",
   "execution_count": 39,
   "id": "96dfb9c7-7bd4-4f2c-a81e-9a3b76aab347",
   "metadata": {},
   "outputs": [
    {
     "name": "stdout",
     "output_type": "stream",
     "text": [
      "**Sum of digits for numbers from 1 to 1000 is here :**\n",
      "[1, 2, 3, 4, 5, 6, 7, 8, 9, 1, 2, 3, 4, 5, 6, 7, 8, 9, 10, 2, 3, 4, 5, 6, 7, 8, 9, 10, 11, 3, 4, 5, 6, 7, 8, 9, 10, 11, 12, 4, 5, 6, 7, 8, 9, 10, 11, 12, 13, 5, 6, 7, 8, 9, 10, 11, 12, 13, 14, 6, 7, 8, 9, 10, 11, 12, 13, 14, 15, 7, 8, 9, 10, 11, 12, 13, 14, 15, 16, 8, 9, 10, 11, 12, 13, 14, 15, 16, 17, 9, 10, 11, 12, 13, 14, 15, 16, 17, 18, 1, 2, 3, 4, 5, 6, 7, 8, 9, 10, 2, 3, 4, 5, 6, 7, 8, 9, 10, 11, 3, 4, 5, 6, 7, 8, 9, 10, 11, 12, 4, 5, 6, 7, 8, 9, 10, 11, 12, 13, 5, 6, 7, 8, 9, 10, 11, 12, 13, 14, 6, 7, 8, 9, 10, 11, 12, 13, 14, 15, 7, 8, 9, 10, 11, 12, 13, 14, 15, 16, 8, 9, 10, 11, 12, 13, 14, 15, 16, 17, 9, 10, 11, 12, 13, 14, 15, 16, 17, 18, 10, 11, 12, 13, 14, 15, 16, 17, 18, 19, 2, 3, 4, 5, 6, 7, 8, 9, 10, 11, 3, 4, 5, 6, 7, 8, 9, 10, 11, 12, 4, 5, 6, 7, 8, 9, 10, 11, 12, 13, 5, 6, 7, 8, 9, 10, 11, 12, 13, 14, 6, 7, 8, 9, 10, 11, 12, 13, 14, 15, 7, 8, 9, 10, 11, 12, 13, 14, 15, 16, 8, 9, 10, 11, 12, 13, 14, 15, 16, 17, 9, 10, 11, 12, 13, 14, 15, 16, 17, 18, 10, 11, 12, 13, 14, 15, 16, 17, 18, 19, 11, 12, 13, 14, 15, 16, 17, 18, 19, 20, 3, 4, 5, 6, 7, 8, 9, 10, 11, 12, 4, 5, 6, 7, 8, 9, 10, 11, 12, 13, 5, 6, 7, 8, 9, 10, 11, 12, 13, 14, 6, 7, 8, 9, 10, 11, 12, 13, 14, 15, 7, 8, 9, 10, 11, 12, 13, 14, 15, 16, 8, 9, 10, 11, 12, 13, 14, 15, 16, 17, 9, 10, 11, 12, 13, 14, 15, 16, 17, 18, 10, 11, 12, 13, 14, 15, 16, 17, 18, 19, 11, 12, 13, 14, 15, 16, 17, 18, 19, 20, 12, 13, 14, 15, 16, 17, 18, 19, 20, 21, 4, 5, 6, 7, 8, 9, 10, 11, 12, 13, 5, 6, 7, 8, 9, 10, 11, 12, 13, 14, 6, 7, 8, 9, 10, 11, 12, 13, 14, 15, 7, 8, 9, 10, 11, 12, 13, 14, 15, 16, 8, 9, 10, 11, 12, 13, 14, 15, 16, 17, 9, 10, 11, 12, 13, 14, 15, 16, 17, 18, 10, 11, 12, 13, 14, 15, 16, 17, 18, 19, 11, 12, 13, 14, 15, 16, 17, 18, 19, 20, 12, 13, 14, 15, 16, 17, 18, 19, 20, 21, 13, 14, 15, 16, 17, 18, 19, 20, 21, 22, 5, 6, 7, 8, 9, 10, 11, 12, 13, 14, 6, 7, 8, 9, 10, 11, 12, 13, 14, 15, 7, 8, 9, 10, 11, 12, 13, 14, 15, 16, 8, 9, 10, 11, 12, 13, 14, 15, 16, 17, 9, 10, 11, 12, 13, 14, 15, 16, 17, 18, 10, 11, 12, 13, 14, 15, 16, 17, 18, 19, 11, 12, 13, 14, 15, 16, 17, 18, 19, 20, 12, 13, 14, 15, 16, 17, 18, 19, 20, 21, 13, 14, 15, 16, 17, 18, 19, 20, 21, 22, 14, 15, 16, 17, 18, 19, 20, 21, 22, 23, 6, 7, 8, 9, 10, 11, 12, 13, 14, 15, 7, 8, 9, 10, 11, 12, 13, 14, 15, 16, 8, 9, 10, 11, 12, 13, 14, 15, 16, 17, 9, 10, 11, 12, 13, 14, 15, 16, 17, 18, 10, 11, 12, 13, 14, 15, 16, 17, 18, 19, 11, 12, 13, 14, 15, 16, 17, 18, 19, 20, 12, 13, 14, 15, 16, 17, 18, 19, 20, 21, 13, 14, 15, 16, 17, 18, 19, 20, 21, 22, 14, 15, 16, 17, 18, 19, 20, 21, 22, 23, 15, 16, 17, 18, 19, 20, 21, 22, 23, 24, 7, 8, 9, 10, 11, 12, 13, 14, 15, 16, 8, 9, 10, 11, 12, 13, 14, 15, 16, 17, 9, 10, 11, 12, 13, 14, 15, 16, 17, 18, 10, 11, 12, 13, 14, 15, 16, 17, 18, 19, 11, 12, 13, 14, 15, 16, 17, 18, 19, 20, 12, 13, 14, 15, 16, 17, 18, 19, 20, 21, 13, 14, 15, 16, 17, 18, 19, 20, 21, 22, 14, 15, 16, 17, 18, 19, 20, 21, 22, 23, 15, 16, 17, 18, 19, 20, 21, 22, 23, 24, 16, 17, 18, 19, 20, 21, 22, 23, 24, 25, 8, 9, 10, 11, 12, 13, 14, 15, 16, 17, 9, 10, 11, 12, 13, 14, 15, 16, 17, 18, 10, 11, 12, 13, 14, 15, 16, 17, 18, 19, 11, 12, 13, 14, 15, 16, 17, 18, 19, 20, 12, 13, 14, 15, 16, 17, 18, 19, 20, 21, 13, 14, 15, 16, 17, 18, 19, 20, 21, 22, 14, 15, 16, 17, 18, 19, 20, 21, 22, 23, 15, 16, 17, 18, 19, 20, 21, 22, 23, 24, 16, 17, 18, 19, 20, 21, 22, 23, 24, 25, 17, 18, 19, 20, 21, 22, 23, 24, 25, 26, 9, 10, 11, 12, 13, 14, 15, 16, 17, 18, 10, 11, 12, 13, 14, 15, 16, 17, 18, 19, 11, 12, 13, 14, 15, 16, 17, 18, 19, 20, 12, 13, 14, 15, 16, 17, 18, 19, 20, 21, 13, 14, 15, 16, 17, 18, 19, 20, 21, 22, 14, 15, 16, 17, 18, 19, 20, 21, 22, 23, 15, 16, 17, 18, 19, 20, 21, 22, 23, 24, 16, 17, 18, 19, 20, 21, 22, 23, 24, 25, 17, 18, 19, 20, 21, 22, 23, 24, 25, 26, 18, 19, 20, 21, 22, 23, 24, 25, 26, 27, 1]\n"
     ]
    }
   ],
   "source": [
    "# Ans: 39 \n",
    "\n",
    "digit_sums = [sum(int(digit) for digit in str(num)) for num in range(1, 1001)]\n",
    "\n",
    "print(\"**Sum of digits for numbers from 1 to 1000 is here :**\")\n",
    "\n",
    "print(digit_sums)"
   ]
  },
  {
   "cell_type": "code",
   "execution_count": null,
   "id": "fae70455-ef94-420a-91b0-87b313e2611e",
   "metadata": {},
   "outputs": [],
   "source": []
  },
  {
   "cell_type": "markdown",
   "id": "ed896550-bd8c-43a9-88f7-3adb1347fcae",
   "metadata": {},
   "source": [
    "# 40. Write a program that generates a list of prime palindromic numbers using list comprehension."
   ]
  },
  {
   "cell_type": "code",
   "execution_count": 40,
   "id": "2351fd79-66d2-42ea-b78b-c07a84178fdd",
   "metadata": {},
   "outputs": [
    {
     "name": "stdout",
     "output_type": "stream",
     "text": [
      "Prime palindromic numbers up to 1000 are: [2, 3, 5, 7, 11, 101, 131, 151, 181, 191, 313, 353, 373, 383, 727, 757, 787, 797, 919, 929]\n"
     ]
    }
   ],
   "source": [
    "# Ans: 40 \n",
    "\n",
    "limit = 1000  # Specify the limit for prime palindromic numbers\n",
    "sieve = [True] * (limit + 1)\n",
    "sieve[0:2] = [False, False]  # 0 and 1 are not prime\n",
    "\n",
    "# Sieve of Eratosthenes algorithm\n",
    "for current in range(2, int(limit**0.5) + 1):\n",
    "    if sieve[current]:\n",
    "        for multiple in range(current*current, limit+1, current):\n",
    "            sieve[multiple] = False\n",
    "\n",
    "# Use list comprehension to generate prime palindromic numbers\n",
    "prime_palindromic_numbers = [num for num in range(2, limit + 1) if sieve[num] and str(num) == str(num)[::-1]]\n",
    "\n",
    "print(\"Prime palindromic numbers up to\", limit, \"are:\", prime_palindromic_numbers)"
   ]
  },
  {
   "cell_type": "code",
   "execution_count": null,
   "id": "173e8dea-beb4-4104-8439-f7ec5c6b562a",
   "metadata": {},
   "outputs": [],
   "source": []
  },
  {
   "cell_type": "code",
   "execution_count": null,
   "id": "053444cd-6bed-445f-9633-5686acf4d2ed",
   "metadata": {},
   "outputs": [],
   "source": []
  },
  {
   "cell_type": "code",
   "execution_count": null,
   "id": "d66d81ae-a126-4c0b-822d-0a976ef46010",
   "metadata": {},
   "outputs": [],
   "source": []
  }
 ],
 "metadata": {
  "kernelspec": {
   "display_name": "Python 3 (ipykernel)",
   "language": "python",
   "name": "python3"
  },
  "language_info": {
   "codemirror_mode": {
    "name": "ipython",
    "version": 3
   },
   "file_extension": ".py",
   "mimetype": "text/x-python",
   "name": "python",
   "nbconvert_exporter": "python",
   "pygments_lexer": "ipython3",
   "version": "3.10.8"
  }
 },
 "nbformat": 4,
 "nbformat_minor": 5
}
